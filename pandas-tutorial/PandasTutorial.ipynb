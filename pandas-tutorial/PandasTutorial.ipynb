{
 "cells": [
  {
   "cell_type": "markdown",
   "metadata": {
    "slideshow": {
     "slide_type": "slide"
    }
   },
   "source": [
    "# Pandas tutorial\n",
    "\n",
    "Compressed introduction to data preprocessing with Pandas!"
   ]
  },
  {
   "cell_type": "markdown",
   "metadata": {
    "slideshow": {
     "slide_type": "notes"
    }
   },
   "source": [
    "*Important*\n",
    "\n",
    "If you wish to present the slides, you need to install `jupyter`'s `RISE` extension for presentations. \n",
    "\n",
    "See `misc` folder of seminar for more details."
   ]
  },
  {
   "cell_type": "markdown",
   "metadata": {
    "slideshow": {
     "slide_type": "slide"
    }
   },
   "source": [
    "## Useful features of Pandas\n",
    "\n",
    "* Working with multiple data formats, such as `.csv`\n",
    "\n",
    "* Simplifies some operations which are complex with numpy\n",
    "\n",
    "* Easy to join data from multiple sources"
   ]
  },
  {
   "cell_type": "markdown",
   "metadata": {
    "slideshow": {
     "slide_type": "slide"
    }
   },
   "source": [
    "## Pandas (some) data structures \n",
    "\n",
    "* `DataFrame`: a 2d matrix of values, a typical representation of dataset. \n",
    "\n",
    "* `Series`: can be thought of as a single column in a dataset.\n",
    "\n",
    "[https://pandas.pydata.org/pandas-docs/stable/dsintro.html](https://pandas.pydata.org/pandas-docs/stable/dsintro.html)\n"
   ]
  }
 ],
 "metadata": {
  "celltoolbar": "Slideshow",
  "kernelspec": {
   "display_name": "Python 3",
   "language": "python",
   "name": "python3"
  },
  "language_info": {
   "codemirror_mode": {
    "name": "ipython",
    "version": 3
   },
   "file_extension": ".py",
   "mimetype": "text/x-python",
   "name": "python",
   "nbconvert_exporter": "python",
   "pygments_lexer": "ipython3",
   "version": "3.5.2"
  }
 },
 "nbformat": 4,
 "nbformat_minor": 2
}
