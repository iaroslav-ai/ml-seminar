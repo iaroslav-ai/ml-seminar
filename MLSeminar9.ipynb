{
 "cells": [
  {
   "cell_type": "markdown",
   "metadata": {
    "slideshow": {
     "slide_type": "slide"
    }
   },
   "source": [
    "# ML Seminar 9\n",
    "\n",
    "Sequential Data processing"
   ]
  },
  {
   "cell_type": "markdown",
   "metadata": {
    "slideshow": {
     "slide_type": "slide"
    }
   },
   "source": [
    "## Sequence prediction tasks\n",
    "\n",
    "* Natural language processing\n",
    "\n",
    "* Sensory signals processing - PathMate, SmartFarming\n",
    "\n",
    "* Financial forecasting\n",
    "\n",
    "<center>\n",
    "<img src=\"misc/sequences.svg\" alt=\"Drawing\" style=\"width: 800px;\"/>\n",
    "</center>\n"
   ]
  },
  {
   "cell_type": "markdown",
   "metadata": {
    "slideshow": {
     "slide_type": "slide"
    }
   },
   "source": [
    "## Financial forecasting\n",
    "<center>\n",
    "Estimate future prices!\n",
    "\n",
    "<img src=\"misc/fintech.svg\" alt=\"Drawing\" style=\"width: 800px; height=400px\">\n",
    "\n",
    "We will use [random length lumber prices data](https://www.quandl.com/data/CHRIS/CME_LB1-Random-Length-Lumber-Futures-Continuous-Contract-1-LB1-Front-Month?utm_medium=graph&utm_source=quandl).\n",
    "</center>"
   ]
  },
  {
   "cell_type": "markdown",
   "metadata": {
    "slideshow": {
     "slide_type": "slide"
    }
   },
   "source": [
    "## Simple things first\n",
    "\n",
    "Try to fit existing code to sequence processing!"
   ]
  },
  {
   "cell_type": "markdown",
   "metadata": {
    "slideshow": {
     "slide_type": "fragment"
    }
   },
   "source": [
    "Simply convert sequence to vector."
   ]
  },
  {
   "cell_type": "markdown",
   "metadata": {
    "slideshow": {
     "slide_type": "slide"
    }
   },
   "source": [
    "## Manual feature extraction\n",
    "\n",
    "* Calculate metrics like variance, min, max\n",
    "\n",
    "* Subsample array\n",
    "\n",
    "* Use some dedicated transforms"
   ]
  },
  {
   "cell_type": "markdown",
   "metadata": {
    "slideshow": {
     "slide_type": "slide"
    }
   },
   "source": [
    "## Automated feature extraction\n",
    "\n",
    "Using TensorFlow + Keras!"
   ]
  }
 ],
 "metadata": {
  "celltoolbar": "Slideshow",
  "kernelspec": {
   "display_name": "Python 3",
   "language": "python",
   "name": "python3"
  },
  "language_info": {
   "codemirror_mode": {
    "name": "ipython",
    "version": 3
   },
   "file_extension": ".py",
   "mimetype": "text/x-python",
   "name": "python",
   "nbconvert_exporter": "python",
   "pygments_lexer": "ipython3",
   "version": "3.5.2"
  }
 },
 "nbformat": 4,
 "nbformat_minor": 2
}
