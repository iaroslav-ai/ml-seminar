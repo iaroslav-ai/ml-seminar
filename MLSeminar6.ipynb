{
 "cells": [
  {
   "cell_type": "markdown",
   "metadata": {
    "slideshow": {
     "slide_type": "slide"
    }
   },
   "source": [
    "# ML Seminar 6\n",
    "\n",
    "Grid Search, Data Preprocessing and Bayesian Optimization for ML"
   ]
  },
  {
   "cell_type": "markdown",
   "metadata": {
    "slideshow": {
     "slide_type": "slide"
    }
   },
   "source": [
    "## The usual goal reminder\n",
    "<center>\n",
    "Build a [wine quality](https://archive.ics.uci.edu/ml/datasets/wine+quality) detector!\n",
    "\n",
    "<img src=\"misc/wine.svg\" alt=\"Drawing\" style=\"width: 800px;\"/>\n",
    "\n",
    "We are going to finish this today (really).\n",
    "</center>"
   ]
  },
  {
   "cell_type": "markdown",
   "metadata": {
    "slideshow": {
     "slide_type": "slide"
    }
   },
   "source": [
    "## Where to look up the parameter ranges?\n",
    "\n",
    "In material like this:\n",
    "* Model comparison: https://arxiv.org/pdf/1708.05070.pdf\n",
    "* Corresponding parameter ranges: https://github.com/rhiever/sklearn-benchmarks/tree/master/model_code/grid_search\n",
    "\n"
   ]
  },
  {
   "cell_type": "markdown",
   "metadata": {
    "slideshow": {
     "slide_type": "slide"
    }
   },
   "source": [
    "## Making your own transformer\n",
    "\n",
    "* Often useful for dedicated feature extraction\n",
    "\n",
    "*Task*: Make your own transformer which subtracts the median value from a column, and divides it by st. deviation of absolute values. Substitute it with the used normalization routine."
   ]
  },
  {
   "cell_type": "code",
   "execution_count": 1,
   "metadata": {
    "scrolled": false,
    "slideshow": {
     "slide_type": "fragment"
    }
   },
   "outputs": [
    {
     "name": "stdout",
     "output_type": "stream",
     "text": [
      "Fitting 3 folds for each of 9 candidates, totalling 27 fits\n"
     ]
    },
    {
     "name": "stderr",
     "output_type": "stream",
     "text": [
      "[Parallel(n_jobs=8)]: Done  12 out of  27 | elapsed:    0.3s remaining:    0.4s\n",
      "[Parallel(n_jobs=8)]: Done  27 out of  27 | elapsed:    0.7s finished\n"
     ]
    },
    {
     "name": "stdout",
     "output_type": "stream",
     "text": [
      "0.374776767158\n",
      "Example estimations\n",
      "[(6.0, 5.1192985837032978), (5.0, 5.1679546993499654), (7.0, 7.0942408979956681), (6.0, 4.8421969242225291), (5.0, 6.0050072789140261), (6.0, 5.2082930080415846), (5.0, 5.0528333146304876), (6.0, 5.9496966127585189), (4.0, 5.0921054035949984), (5.0, 5.0883908910564912)]\n"
     ]
    }
   ],
   "source": [
    "import pandas as ps\n",
    "from sklearn.svm import SVR\n",
    "from sklearn.model_selection import train_test_split, GridSearchCV\n",
    "from sklearn.preprocessing import StandardScaler\n",
    "from sklearn.pipeline import make_pipeline\n",
    "# some of already available functionality\n",
    "from sklearn.base import BaseEstimator, TransformerMixin\n",
    "import numpy as np\n",
    "\n",
    "# read the file as csv\n",
    "Xy = ps.read_csv('data/winequality-red.csv', sep=';').as_matrix()\n",
    "X_train, X_test, y_train, y_test = train_test_split(Xy[:, :-1], Xy[:, -1], random_state=0)\n",
    "\n",
    "class MedianScaler(BaseEstimator, TransformerMixin):\n",
    "    \"\"\"\n",
    "    Subtract the median of column values from every column\n",
    "    of the dataset matrix, and divide every column by \n",
    "    the median of absolute deviation from median.\n",
    "    \n",
    "    Attributes\n",
    "    ----------\n",
    "    \n",
    "    median_: numpy nd array of shape (n_features,)\n",
    "        contains median of values\n",
    "    \n",
    "    absdev_: ...        \n",
    "    \"\"\"\n",
    "    def __init__(self):\n",
    "        self.median_ = None\n",
    "        self.std_ = None\n",
    "    \n",
    "    def fit(self, X, y=None):\n",
    "        \"\"\"\n",
    "        Fits the scaler to the data. \n",
    "\n",
    "        Parameters\n",
    "        ----------\n",
    "        \n",
    "        X: array like of shape [n_samples, ...].\n",
    "            Dataset        \n",
    "        \"\"\"\n",
    "        self.median_ = np.median(X, axis=0)\n",
    "        X = X - self.median_\n",
    "        self.std_ = np.std(X, axis=0)\n",
    "        \n",
    "        # !!! important\n",
    "        return self\n",
    "    \n",
    "    def transform(self, X, y=None):\n",
    "        \"\"\"\n",
    "        ...enter the description here!\n",
    "        \"\"\"\n",
    "        X = X - self.median_\n",
    "        X = X / self.std_\n",
    "        return X    \n",
    "    \n",
    "# create a model class instance\n",
    "estimator = make_pipeline(\n",
    "    MedianScaler(),\n",
    "    SVR(),\n",
    ")\n",
    "\n",
    "# create an instance of a grid search class\n",
    "model = GridSearchCV(\n",
    "    estimator=estimator,\n",
    "    param_grid={\n",
    "        \"svr__C\": [0.1, 1.0, 10.0],\n",
    "        \"svr__gamma\": [0.1, 1.0, 10.0],\n",
    "    },\n",
    "    verbose=1,\n",
    "    n_jobs=8,\n",
    ")\n",
    "\n",
    "# fit a model to the data\n",
    "model.fit(X_train, y_train)\n",
    "\n",
    "# evaluate the model on the data\n",
    "print(model.score(X_test, y_test))\n",
    "\n",
    "# make estimations as usual\n",
    "yp = model.predict(X_test)\n",
    "\n",
    "print(\"Example estimations\")\n",
    "print([v for v in zip(y_test[:10], yp[:10])])"
   ]
  },
  {
   "cell_type": "markdown",
   "metadata": {
    "slideshow": {
     "slide_type": "slide"
    }
   },
   "source": [
    "## Automated feature processing\n",
    "\n",
    "* Select categorical column\n",
    "\n",
    "* Transform it into numerical columns\n",
    "\n",
    "<center>\n",
    "<img src=\"misc/onehot.svg\" alt=\"Drawing\" style=\"width: 400px;\"/>\n",
    "</center>"
   ]
  },
  {
   "cell_type": "markdown",
   "metadata": {
    "slideshow": {
     "slide_type": "slide"
    }
   },
   "source": [
    "## Credit approval dataset\n",
    "<center>\n",
    "Build a [credit approval](http://archive.ics.uci.edu/ml/datasets/Credit+Approval) classifier!\n",
    "\n",
    "<img src=\"misc/credit.svg\" alt=\"Drawing\" style=\"width: 800px;\"/>\n",
    "\n",
    "Requires some data preprocessing!\n",
    "</center>"
   ]
  },
  {
   "cell_type": "code",
   "execution_count": 2,
   "metadata": {
    "scrolled": true,
    "slideshow": {
     "slide_type": "fragment"
    }
   },
   "outputs": [
    {
     "name": "stdout",
     "output_type": "stream",
     "text": [
      "[[0 1 0 0]\n",
      " [0 1 0 0]\n",
      " [0 1 0 0]\n",
      " ..., \n",
      " [0 0 0 1]\n",
      " [0 1 0 0]\n",
      " [0 1 0 0]]\n",
      "[['58.67' 0 1 0 0]\n",
      " ['24.50' 0 1 0 0]\n",
      " ['27.83' 0 1 0 0]\n",
      " ..., \n",
      " ['25.25' 0 0 0 1]\n",
      " ['17.92' 0 1 0 0]\n",
      " ['35.00' 0 1 0 0]]\n"
     ]
    }
   ],
   "source": [
    "import pandas as ps\n",
    "from sklearn.svm import SVR\n",
    "from sklearn.preprocessing import LabelBinarizer\n",
    "from sklearn.base import BaseEstimator, TransformerMixin\n",
    "from sklearn.pipeline import make_union, make_pipeline\n",
    "\n",
    "# class that selects a single column\n",
    "class ColumnSelector(BaseEstimator, TransformerMixin):\n",
    "    def __init__(self, index):\n",
    "        self.index = index\n",
    "    \n",
    "    def fit(self, X, y=None):\n",
    "        return self\n",
    "    \n",
    "    def transform(self, X, y=None):\n",
    "        return X[:, [self.index]]\n",
    "\n",
    "# class that encodes the column \n",
    "class OneHotEncoder(BaseEstimator, TransformerMixin):\n",
    "    def __init__(self):\n",
    "        self.model = None\n",
    "    \n",
    "    def fit(self, X, y=None):\n",
    "        self.model = LabelBinarizer()\n",
    "        self.model.fit(X[:, 0])\n",
    "        return self\n",
    "    \n",
    "    def transform(self, X, y=None):\n",
    "        return self.model.transform(X[:, 0])\n",
    "        \n",
    "    \n",
    "# read the file as csv\n",
    "Xy = ps.read_csv('data/credit-screening.csv').as_matrix()\n",
    "X = Xy\n",
    "\n",
    "cs = ColumnSelector(4)\n",
    "X = cs.fit_transform(X)\n",
    "hot = OneHotEncoder();\n",
    "X = hot.fit_transform(X)\n",
    "print(X)\n",
    "\n",
    "# this joins multiple extracted features into one feature set\n",
    "features = make_union(\n",
    "    ColumnSelector(1),\n",
    "    make_pipeline(ColumnSelector(4), OneHotEncoder())\n",
    ")\n",
    "\n",
    "print(features.fit_transform(Xy))"
   ]
  }
 ],
 "metadata": {
  "celltoolbar": "Slideshow",
  "kernelspec": {
   "display_name": "Python 3",
   "language": "python",
   "name": "python3"
  },
  "language_info": {
   "codemirror_mode": {
    "name": "ipython",
    "version": 3
   },
   "file_extension": ".py",
   "mimetype": "text/x-python",
   "name": "python",
   "nbconvert_exporter": "python",
   "pygments_lexer": "ipython3",
   "version": "3.5.2"
  }
 },
 "nbformat": 4,
 "nbformat_minor": 2
}
