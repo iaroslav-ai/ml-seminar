{
 "cells": [
  {
   "cell_type": "markdown",
   "metadata": {
    "slideshow": {
     "slide_type": "slide"
    }
   },
   "source": [
    "# ML Seminar 3\n",
    "\n",
    "Data Science Pipeline"
   ]
  },
  {
   "cell_type": "markdown",
   "metadata": {
    "slideshow": {
     "slide_type": "slide"
    }
   },
   "source": [
    "## Let's set a goal\n",
    "<center>\n",
    "Build a [wine quality](https://archive.ics.uci.edu/ml/datasets/wine+quality) detector!\n",
    "\n",
    "<img src=\"misc/wine.svg\" alt=\"Drawing\" style=\"width: 800px;\"/></center>"
   ]
  },
  {
   "cell_type": "markdown",
   "metadata": {
    "slideshow": {
     "slide_type": "slide"
    }
   },
   "source": [
    "## Plan\n",
    "\n",
    "☑ Install everything we need\n",
    "\n",
    "\n",
    "☑ Understand basics of predictive modelling\n",
    "\n",
    "\n",
    "☐ Load and preprocess data\n",
    "\n",
    " \n",
    "☐ Create predictive model with sklearn"
   ]
  },
  {
   "cell_type": "markdown",
   "metadata": {
    "slideshow": {
     "slide_type": "slide"
    }
   },
   "source": [
    "## Leap to datascience\n",
    "\n",
    "* Loading data in csv\n",
    "\n",
    "* Train model on data"
   ]
  },
  {
   "cell_type": "markdown",
   "metadata": {
    "slideshow": {
     "slide_type": "slide"
    }
   },
   "source": [
    "## Solution\n",
    "\n",
    "Minimal program to train an sklearn model on our data."
   ]
  },
  {
   "cell_type": "code",
   "execution_count": 21,
   "metadata": {
    "slideshow": {
     "slide_type": "fragment"
    }
   },
   "outputs": [
    {
     "name": "stdout",
     "output_type": "stream",
     "text": [
      "[ 5.09985909  5.31661002  4.90015287 ...,  5.98878076  5.10019844\n",
      "  5.89988359]\n",
      "0.637435902752\n"
     ]
    }
   ],
   "source": [
    "import pandas as ps\n",
    "from sklearn.svm import SVR\n",
    "\n",
    "# read the file as csv\n",
    "Xy = ps.read_csv('data/winequality-red.csv', sep=';').as_matrix()\n",
    "\n",
    "# split the data into inputs and outputs\n",
    "X = Xy[:, :-1]\n",
    "y = Xy[:, -1]\n",
    "\n",
    "# create a model class instance\n",
    "model = SVR()\n",
    "\n",
    "# fit a model to the data\n",
    "model.fit(X, y)\n",
    "\n",
    "# make estimations with the model\n",
    "yp = model.predict(X)\n",
    "print(yp)\n",
    "\n",
    "# evaluate the model on the data\n",
    "print(model.score(X, y))"
   ]
  },
  {
   "cell_type": "markdown",
   "metadata": {
    "slideshow": {
     "slide_type": "fragment"
    }
   },
   "source": [
    "Any issues with this code?"
   ]
  },
  {
   "cell_type": "markdown",
   "metadata": {
    "slideshow": {
     "slide_type": "slide"
    }
   },
   "source": [
    "## Data preprocessing\n",
    "\n",
    "* Split data into training and testing parts"
   ]
  },
  {
   "cell_type": "code",
   "execution_count": 2,
   "metadata": {
    "slideshow": {
     "slide_type": "fragment"
    }
   },
   "outputs": [
    {
     "name": "stdout",
     "output_type": "stream",
     "text": [
      "(1599, 11)\n",
      "(1599,)\n",
      "0.0834225250112\n"
     ]
    }
   ],
   "source": [
    "import pandas as ps\n",
    "from sklearn.svm import SVR\n",
    "\n",
    "# read the file as csv\n",
    "Xy = ps.read_csv('data/winequality-red.csv', sep=';').as_matrix()\n",
    "\n",
    "# split the data into inputs and outputs\n",
    "X = Xy[:, :-1]\n",
    "y = Xy[:, -1]\n",
    "\n",
    "print(X.shape)\n",
    "print(y.shape)\n",
    "\n",
    "X_train, X_test = X[:1000], X[1000:]\n",
    "y_train, y_test = y[:1000], y[1000:]\n",
    "\n",
    "# create a model class instance\n",
    "model = SVR()\n",
    "\n",
    "# fit a model to the data\n",
    "model.fit(X_train, y_train)\n",
    "\n",
    "# evaluate the model on the data\n",
    "print(model.score(X_test, y_test))"
   ]
  },
  {
   "cell_type": "markdown",
   "metadata": {
    "slideshow": {
     "slide_type": "slide"
    }
   },
   "source": [
    "## Data preprocessing\n",
    "\n",
    "* Converting categorical data into numerical"
   ]
  },
  {
   "cell_type": "code",
   "execution_count": 13,
   "metadata": {
    "slideshow": {
     "slide_type": "fragment"
    }
   },
   "outputs": [
    {
     "name": "stdout",
     "output_type": "stream",
     "text": [
      "['male' 'female' 'female' 'female' 'male' 'male' 'male' 'male' 'female'\n",
      " 'female']\n",
      "[[1]\n",
      " [0]\n",
      " [0]\n",
      " [0]\n",
      " [1]\n",
      " [1]\n",
      " [1]\n",
      " [1]\n",
      " [0]\n",
      " [0]]\n"
     ]
    }
   ],
   "source": [
    "import pandas as ps\n",
    "from sklearn.svm import SVR\n",
    "from sklearn.preprocessing import LabelBinarizer\n",
    "\n",
    "# read the file as csv\n",
    "Xy = ps.read_csv('data/titanic.csv').as_matrix()\n",
    "\n",
    "column = Xy[:10, 4]\n",
    "\n",
    "print(column)\n",
    "\n",
    "lb = LabelBinarizer()\n",
    "lb.fit(column)\n",
    "\n",
    "print(lb.transform(column))"
   ]
  },
  {
   "cell_type": "markdown",
   "metadata": {
    "slideshow": {
     "slide_type": "slide"
    }
   },
   "source": [
    "## Use functions of sklearn\n",
    "\n",
    "* `train_test_split`"
   ]
  },
  {
   "cell_type": "code",
   "execution_count": 2,
   "metadata": {
    "slideshow": {
     "slide_type": "fragment"
    }
   },
   "outputs": [
    {
     "name": "stdout",
     "output_type": "stream",
     "text": [
      "0.21440009257313908\n"
     ]
    }
   ],
   "source": [
    "import pandas as ps\n",
    "from sklearn.svm import SVR\n",
    "from sklearn.model_selection import train_test_split\n",
    "\n",
    "# read the file as csv\n",
    "Xy = ps.read_csv('data/winequality-red.csv', sep=';').as_matrix()\n",
    "\n",
    "X_train, X_test, y_train, y_test = train_test_split(Xy[:, :-1], Xy[:, -1])\n",
    "\n",
    "# create a model class instance\n",
    "model = SVR()\n",
    "\n",
    "# fit a model to the data\n",
    "model.fit(X_train, y_train)\n",
    "\n",
    "# evaluate the model on the data\n",
    "print(model.score(X_test, y_test))"
   ]
  },
  {
   "cell_type": "markdown",
   "metadata": {
    "slideshow": {
     "slide_type": "slide"
    }
   },
   "source": [
    "## Model parameters in sklearn\n",
    "\n",
    "* two ways to set them"
   ]
  },
  {
   "cell_type": "code",
   "execution_count": 27,
   "metadata": {
    "slideshow": {
     "slide_type": "fragment"
    }
   },
   "outputs": [
    {
     "name": "stdout",
     "output_type": "stream",
     "text": [
      "{'C': 0.6, 'kernel': 'rbf', 'epsilon': 0.1, 'verbose': False, 'tol': 0.001, 'shrinking': True, 'coef0': 0.0, 'gamma': 'auto', 'cache_size': 200, 'max_iter': -1, 'degree': 3}\n",
      "0.27038267084148215\n"
     ]
    }
   ],
   "source": [
    "import pandas as ps\n",
    "from sklearn.svm import SVR\n",
    "from sklearn.model_selection import train_test_split\n",
    "\n",
    "# read the file as csv\n",
    "Xy = ps.read_csv('data/winequality-red.csv', sep=';').as_matrix()\n",
    "\n",
    "X_train, X_test, y_train, y_test = train_test_split(Xy[:, :-1], Xy[:, -1], random_state=0)\n",
    "\n",
    "# setting parameter in way #1\n",
    "model = SVR(C=10.0)\n",
    "\n",
    "# setting parameter in way #2\n",
    "model.set_params(C=1.0-0.4)\n",
    "\n",
    "# get a list of all parameter values\n",
    "print(model.get_params())\n",
    "\n",
    "# fit a model to the data\n",
    "model.fit(X_train, y_train)\n",
    "\n",
    "# evaluate the model on the data\n",
    "print(model.score(X_test, y_test))"
   ]
  },
  {
   "cell_type": "markdown",
   "metadata": {
    "slideshow": {
     "slide_type": "slide"
    }
   },
   "source": [
    "## Inputs normalization\n",
    "\n",
    "A trick in machine learning: \n",
    "\n",
    "* Make mean of columns = 0.0\n",
    "* Stand. dev. of columns = 1.0"
   ]
  },
  {
   "cell_type": "code",
   "execution_count": 32,
   "metadata": {
    "slideshow": {
     "slide_type": "fragment"
    }
   },
   "outputs": [
    {
     "name": "stdout",
     "output_type": "stream",
     "text": [
      "0.4107145631253448\n"
     ]
    }
   ],
   "source": [
    "import pandas as ps\n",
    "from sklearn.svm import SVR\n",
    "from sklearn.model_selection import train_test_split\n",
    "from sklearn.preprocessing import StandardScaler\n",
    "\n",
    "# read the file as csv\n",
    "Xy = ps.read_csv('data/winequality-red.csv', sep=';').as_matrix()\n",
    "\n",
    "X = Xy[:, :-1]\n",
    "y = Xy[:, -1]\n",
    "\n",
    "# instance of TransformerMixin\n",
    "scaler = StandardScaler()\n",
    "scaler.fit(X, y) # can be fit to the data\n",
    "X = scaler.transform(X) # does transformation on the data\n",
    "\n",
    "X_train, X_test, y_train, y_test = train_test_split(X, y)\n",
    "\n",
    "# create a model class instance\n",
    "model = SVR()\n",
    "\n",
    "# fit a model to the data\n",
    "model.fit(X_train, y_train)\n",
    "\n",
    "# evaluate the model on the data\n",
    "print(model.score(X_test, y_test))"
   ]
  },
  {
   "cell_type": "markdown",
   "metadata": {
    "slideshow": {
     "slide_type": "fragment"
    }
   },
   "source": [
    "Any error in the code above?"
   ]
  },
  {
   "cell_type": "markdown",
   "metadata": {
    "slideshow": {
     "slide_type": "slide"
    }
   },
   "source": [
    "## Pipelines in sklearn\n",
    "\n",
    "Simplify the preprocessing by making it a part of a predictive model instance. "
   ]
  },
  {
   "cell_type": "code",
   "execution_count": 6,
   "metadata": {
    "slideshow": {
     "slide_type": "fragment"
    }
   },
   "outputs": [
    {
     "name": "stdout",
     "output_type": "stream",
     "text": [
      "0.374563755169\n"
     ]
    }
   ],
   "source": [
    "import pandas as ps\n",
    "from sklearn.svm import SVR\n",
    "from sklearn.model_selection import train_test_split\n",
    "from sklearn.preprocessing import StandardScaler\n",
    "from sklearn.pipeline import make_pipeline\n",
    "\n",
    "# read the file as csv\n",
    "Xy = ps.read_csv('data/winequality-red.csv', sep=';').as_matrix()\n",
    "X_train, X_test, y_train, y_test = train_test_split(Xy[:, :-1], Xy[:, -1], random_state=0)\n",
    "\n",
    "# create a model class instance\n",
    "model = make_pipeline(\n",
    "    StandardScaler(),\n",
    "    SVR(),\n",
    ")\n",
    "\n",
    "# setting parameters in the pipeline\n",
    "model.set_params(\n",
    "    standardscaler__with_mean=False,\n",
    "    svr__C=1.0,    \n",
    ")\n",
    "\n",
    "# fit a model to the data\n",
    "model.fit(X_train, y_train)\n",
    "\n",
    "# evaluate the model on the data\n",
    "print(model.score(X_test, y_test))"
   ]
  },
  {
   "cell_type": "markdown",
   "metadata": {
    "slideshow": {
     "slide_type": "fragment"
    }
   },
   "source": [
    "Anything missing here?"
   ]
  },
  {
   "cell_type": "markdown",
   "metadata": {
    "slideshow": {
     "slide_type": "slide"
    }
   },
   "source": [
    "## Cross - validation\n",
    "\n",
    "Next step for the validation dataset:\n",
    "\n",
    "All data is split into folds, and every fold is successively used as validation set."
   ]
  },
  {
   "cell_type": "code",
   "execution_count": 7,
   "metadata": {
    "slideshow": {
     "slide_type": "fragment"
    }
   },
   "outputs": [
    {
     "name": "stdout",
     "output_type": "stream",
     "text": [
      "0.384060958672\n",
      "0.374563753236\n"
     ]
    }
   ],
   "source": [
    "import pandas as ps\n",
    "from sklearn.svm import SVR\n",
    "from sklearn.model_selection import train_test_split, cross_val_score\n",
    "from sklearn.preprocessing import StandardScaler\n",
    "from sklearn.pipeline import make_pipeline\n",
    "\n",
    "# read the file as csv\n",
    "Xy = ps.read_csv('data/winequality-red.csv', sep=';').as_matrix()\n",
    "X_train, X_test, y_train, y_test = train_test_split(Xy[:, :-1], Xy[:, -1], random_state=0)\n",
    "\n",
    "# create a model class instance\n",
    "model = make_pipeline(\n",
    "    StandardScaler(),\n",
    "    SVR(),\n",
    ")\n",
    "\n",
    "# setting parameters in the pipeline\n",
    "model.set_params(\n",
    "    standardscaler__with_std=True,\n",
    "    svr__C=1.0,\n",
    ")\n",
    "\n",
    "# get the cross - validation score estimate\n",
    "sc = cross_val_score(model, X_train, y_train, cv=4)\n",
    "print(sum(sc) / 4.0)\n",
    "\n",
    "# fit a model to the data\n",
    "model.fit(X_train, y_train)\n",
    "\n",
    "# evaluate the model on the data\n",
    "print(model.score(X_test, y_test))"
   ]
  },
  {
   "cell_type": "markdown",
   "metadata": {
    "slideshow": {
     "slide_type": "slide"
    }
   },
   "source": [
    "## Grid Search\n",
    "\n",
    "Search automatically for the good values of the parameters."
   ]
  },
  {
   "cell_type": "code",
   "execution_count": 8,
   "metadata": {
    "slideshow": {
     "slide_type": "fragment"
    }
   },
   "outputs": [
    {
     "name": "stdout",
     "output_type": "stream",
     "text": [
      "Fitting 3 folds for each of 18 candidates, totalling 54 fits\n",
      "0.374776767158\n",
      "Example estimations\n",
      "[(6.0, 5.119298583703296), (5.0, 5.1679546993499574), (7.0, 7.0942408979956673), (6.0, 4.8421969242225433), (5.0, 6.0050072789140199), (6.0, 5.2082930080415828), (5.0, 5.0528333146304885), (6.0, 5.9496966127585198), (4.0, 5.0921054035949931), (5.0, 5.0883908910564859)]\n"
     ]
    },
    {
     "name": "stderr",
     "output_type": "stream",
     "text": [
      "[Parallel(n_jobs=8)]: Done  54 out of  54 | elapsed:    1.0s finished\n"
     ]
    }
   ],
   "source": [
    "import pandas as ps\n",
    "from sklearn.svm import SVR\n",
    "from sklearn.model_selection import train_test_split, GridSearchCV\n",
    "from sklearn.preprocessing import StandardScaler\n",
    "from sklearn.pipeline import make_pipeline\n",
    "\n",
    "# read the file as csv\n",
    "Xy = ps.read_csv('data/winequality-red.csv', sep=';').as_matrix()\n",
    "X_train, X_test, y_train, y_test = train_test_split(Xy[:, :-1], Xy[:, -1], random_state=0)\n",
    "\n",
    "# create a model class instance\n",
    "estimator = make_pipeline(\n",
    "    StandardScaler(),\n",
    "    SVR(),\n",
    ")\n",
    "\n",
    "# create an instance of a grid search class\n",
    "model = GridSearchCV(\n",
    "    estimator=estimator,\n",
    "    param_grid={\n",
    "        \"standardscaler__with_std\": [True, False],\n",
    "        \"svr__C\": [0.1, 1.0, 10.0],\n",
    "        \"svr__gamma\": [0.1, 1.0, 10.0],\n",
    "    },\n",
    "    verbose=1,\n",
    "    n_jobs=8,\n",
    ")\n",
    "\n",
    "# fit a model to the data\n",
    "model.fit(X_train, y_train)\n",
    "\n",
    "# evaluate the model on the data\n",
    "print(model.score(X_test, y_test))\n",
    "\n",
    "# make estimations as usual\n",
    "yp = model.predict(X_test)\n",
    "\n",
    "print(\"Example estimations\")\n",
    "print([v for v in zip(y_test[:10], yp[:10])])"
   ]
  },
  {
   "cell_type": "markdown",
   "metadata": {
    "slideshow": {
     "slide_type": "slide"
    }
   },
   "source": [
    "## Searching over multiple subspaces\n",
    "\n",
    "* Useful when you want to try multiple model classes. ## Making your own transformer or estimator\n",
    "\n",
    "* Often useful for dedicated feature extraction\n",
    "\n",
    "*Task*: Make your own transformer which subtracts the median value from a column, and divides it by median of absolute values. Substitute it with the used normalization routine."
   ]
  },
  {
   "cell_type": "code",
   "execution_count": 3,
   "metadata": {},
   "outputs": [
    {
     "name": "stdout",
     "output_type": "stream",
     "text": [
      "Fitting 3 folds for each of 18 candidates, totalling 54 fits\n"
     ]
    },
    {
     "name": "stderr",
     "output_type": "stream",
     "text": [
      "[Parallel(n_jobs=8)]: Done  39 out of  54 | elapsed:    0.3s remaining:    0.1s\n",
      "[Parallel(n_jobs=8)]: Done  54 out of  54 | elapsed:    0.7s finished\n"
     ]
    },
    {
     "name": "stdout",
     "output_type": "stream",
     "text": [
      "{'model__C': 1.0, 'model': SVR(C=1.0, cache_size=200, coef0=0.0, degree=3, epsilon=0.1, gamma=0.1,\n",
      "  kernel='rbf', max_iter=-1, shrinking=True, tol=0.001, verbose=False), 'model__gamma': 0.1}\n",
      "0.374776767158\n",
      "Example estimations\n",
      "[(6.0, 5.119298583703296), (5.0, 5.1679546993499574), (7.0, 7.0942408979956673), (6.0, 4.8421969242225433), (5.0, 6.0050072789140199), (6.0, 5.2082930080415828), (5.0, 5.0528333146304885), (6.0, 5.9496966127585198), (4.0, 5.0921054035949931), (5.0, 5.0883908910564859)]\n"
     ]
    }
   ],
   "source": [
    "import pandas as ps\n",
    "from sklearn.svm import SVR\n",
    "from sklearn.tree import DecisionTreeRegressor\n",
    "from sklearn.model_selection import train_test_split, GridSearchCV\n",
    "from sklearn.preprocessing import StandardScaler\n",
    "from sklearn.pipeline import Pipeline\n",
    "\n",
    "# read the file as csv\n",
    "Xy = ps.read_csv('data/winequality-red.csv', sep=';').as_matrix()\n",
    "X_train, X_test, y_train, y_test = train_test_split(Xy[:, :-1], Xy[:, -1], random_state=0)\n",
    "\n",
    "# create a model class instance\n",
    "estimator = Pipeline([\n",
    "    ('scaler', StandardScaler()),\n",
    "    ('model', SVR()),\n",
    "])\n",
    "\n",
    "# create an instance of a grid search class\n",
    "model = GridSearchCV(\n",
    "    estimator=estimator,\n",
    "    param_grid=[\n",
    "        {\n",
    "            \"model\":[SVR()],\n",
    "            \"model__C\": [0.1, 1.0, 10.0],\n",
    "            \"model__gamma\": [0.1, 1.0, 10.0],\n",
    "        },\n",
    "        {\n",
    "            \"model\":[DecisionTreeRegressor()],\n",
    "            \"model__max_depth\": list(range(1, 10))\n",
    "        }\n",
    "    ],\n",
    "    verbose=1,\n",
    "    n_jobs=8,\n",
    ")\n",
    "\n",
    "\n",
    "# fit a model to the data\n",
    "model.fit(X_train, y_train)\n",
    "\n",
    "print(model.best_params_)\n",
    "\n",
    "# evaluate the model on the data\n",
    "print(model.score(X_test, y_test))\n",
    "\n",
    "# make estimations as usual\n",
    "yp = model.predict(X_test)\n",
    "\n",
    "print(\"Example estimations\")\n",
    "print([v for v in zip(y_test[:10], yp[:10])])"
   ]
  },
  {
   "cell_type": "markdown",
   "metadata": {
    "slideshow": {
     "slide_type": "slide"
    }
   },
   "source": [
    "## Making your own transformer or estimator\n",
    "\n",
    "* Often useful for dedicated feature extraction\n",
    "\n",
    "*Task*: Make your own transformer which subtracts the median value from a column, and divides it by median of absolute values. Substitute it with the used normalization routine."
   ]
  },
  {
   "cell_type": "code",
   "execution_count": 16,
   "metadata": {},
   "outputs": [
    {
     "name": "stdout",
     "output_type": "stream",
     "text": [
      "Fitting 3 folds for each of 9 candidates, totalling 27 fits\n"
     ]
    },
    {
     "name": "stderr",
     "output_type": "stream",
     "text": [
      "[Parallel(n_jobs=8)]: Done  12 out of  27 | elapsed:    0.2s remaining:    0.3s\n",
      "[Parallel(n_jobs=8)]: Done  27 out of  27 | elapsed:    0.7s finished\n"
     ]
    },
    {
     "name": "stdout",
     "output_type": "stream",
     "text": [
      "0.374776767158\n",
      "Example estimations\n",
      "[(6.0, 5.1192985837032978), (5.0, 5.1679546993499654), (7.0, 7.0942408979956681), (6.0, 4.8421969242225291), (5.0, 6.0050072789140261), (6.0, 5.2082930080415846), (5.0, 5.0528333146304876), (6.0, 5.9496966127585189), (4.0, 5.0921054035949984), (5.0, 5.0883908910564912)]\n"
     ]
    }
   ],
   "source": [
    "import pandas as ps\n",
    "from sklearn.svm import SVR\n",
    "from sklearn.model_selection import train_test_split, GridSearchCV\n",
    "from sklearn.preprocessing import StandardScaler\n",
    "from sklearn.pipeline import make_pipeline\n",
    "from sklearn.base import BaseEstimator, TransformerMixin\n",
    "import numpy as np\n",
    "\n",
    "# read the file as csv\n",
    "Xy = ps.read_csv('data/winequality-red.csv', sep=';').as_matrix()\n",
    "X_train, X_test, y_train, y_test = train_test_split(Xy[:, :-1], Xy[:, -1], random_state=0)\n",
    "\n",
    "class MedianScaler(BaseEstimator, TransformerMixin):\n",
    "    \"\"\"\n",
    "    Subtract the median of column values from every column\n",
    "    of the dataset matrix, and divide every column by \n",
    "    the median of absolute deviation from median.\n",
    "    \n",
    "    Attributes\n",
    "    ----------\n",
    "    \n",
    "    median_: numpy nd array of shape (n_features,)\n",
    "        contains median of values\n",
    "    \n",
    "    absdev_: ...        \n",
    "    \"\"\"\n",
    "    def __init__(self):\n",
    "        self.median_ = None\n",
    "        self.std_ = None\n",
    "    \n",
    "    def fit(self, X, y=None):\n",
    "        \"\"\"\n",
    "        Fits the scaler to the data. \n",
    "\n",
    "        Parameters\n",
    "        ----------\n",
    "        \n",
    "        X: array like of shape [n_samples, ...].\n",
    "            Dataset        \n",
    "        \"\"\"\n",
    "        self.median_ = np.median(X, axis=0)\n",
    "        X = X - self.median_\n",
    "        self.std_ = np.std(X, axis=0)\n",
    "        \n",
    "        # !!! important\n",
    "        return self\n",
    "    \n",
    "    def transform(self, X, y=None):\n",
    "        \"\"\"\n",
    "        ...\n",
    "        \"\"\"\n",
    "        X = X - self.median_\n",
    "        X = X / self.std_\n",
    "        return X    \n",
    "    \n",
    "# create a model class instance\n",
    "estimator = make_pipeline(\n",
    "    MedianScaler(),\n",
    "    SVR(),\n",
    ")\n",
    "\n",
    "# create an instance of a grid search class\n",
    "model = GridSearchCV(\n",
    "    estimator=estimator,\n",
    "    param_grid={\n",
    "        \"svr__C\": [0.1, 1.0, 10.0],\n",
    "        \"svr__gamma\": [0.1, 1.0, 10.0],\n",
    "    },\n",
    "    verbose=1,\n",
    "    n_jobs=8,\n",
    ")\n",
    "\n",
    "# fit a model to the data\n",
    "model.fit(X_train, y_train)\n",
    "\n",
    "# evaluate the model on the data\n",
    "print(model.score(X_test, y_test))\n",
    "\n",
    "# make estimations as usual\n",
    "yp = model.predict(X_test)\n",
    "\n",
    "print(\"Example estimations\")\n",
    "print([v for v in zip(y_test[:10], yp[:10])])"
   ]
  }
 ],
 "metadata": {
  "celltoolbar": "Slideshow",
  "kernelspec": {
   "display_name": "Python 3",
   "language": "python",
   "name": "python3"
  },
  "language_info": {
   "codemirror_mode": {
    "name": "ipython",
    "version": 3
   },
   "file_extension": ".py",
   "mimetype": "text/x-python",
   "name": "python",
   "nbconvert_exporter": "python",
   "pygments_lexer": "ipython3",
   "version": "3.5.2"
  }
 },
 "nbformat": 4,
 "nbformat_minor": 2
}
